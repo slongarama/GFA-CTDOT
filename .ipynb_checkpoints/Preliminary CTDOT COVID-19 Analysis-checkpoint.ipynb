{
 "cells": [
  {
   "cell_type": "code",
   "execution_count": 1,
   "metadata": {},
   "outputs": [],
   "source": [
    "import pandas as pd\n",
    "import plotly as pt\n",
    "import plotly.express as px\n",
    "import plotly.graph_objs as go"
   ]
  },
  {
   "cell_type": "code",
   "execution_count": 2,
   "metadata": {},
   "outputs": [],
   "source": [
    "# LOAD DATASETS\n",
    "ctcovid = pd.read_csv(\"data/CT_COVID/COVID-19_Cases__Hospitalizations__and_Deaths__By_County_.csv\")\n",
    "nhts_pp = pd.read_csv(\"data/NHTS/perpub.csv\", index_col=0)\n",
    "# svi = pd.read_csv(\"data/Connecticut_COUNTY.csv\")"
   ]
  },
  {
   "cell_type": "code",
   "execution_count": 3,
   "metadata": {},
   "outputs": [
    {
     "ename": "NameError",
     "evalue": "name 'svi' is not defined",
     "output_type": "error",
     "traceback": [
      "\u001b[0;31m---------------------------------------------------------------------------\u001b[0m",
      "\u001b[0;31mNameError\u001b[0m                                 Traceback (most recent call last)",
      "\u001b[0;32m<ipython-input-3-0ed360c58cd8>\u001b[0m in \u001b[0;36m<module>\u001b[0;34m\u001b[0m\n\u001b[1;32m      5\u001b[0m     }, inplace=True)\n\u001b[1;32m      6\u001b[0m \u001b[0;34m\u001b[0m\u001b[0m\n\u001b[0;32m----> 7\u001b[0;31m \u001b[0mall_data\u001b[0m \u001b[0;34m=\u001b[0m \u001b[0;34m[\u001b[0m\u001b[0mctcovid\u001b[0m\u001b[0;34m,\u001b[0m \u001b[0mnhts_pp\u001b[0m\u001b[0;34m,\u001b[0m \u001b[0msvi\u001b[0m\u001b[0;34m]\u001b[0m\u001b[0;34m\u001b[0m\u001b[0;34m\u001b[0m\u001b[0m\n\u001b[0m\u001b[1;32m      8\u001b[0m \u001b[0;32mfor\u001b[0m \u001b[0mdf\u001b[0m \u001b[0;32min\u001b[0m \u001b[0mall_data\u001b[0m\u001b[0;34m:\u001b[0m\u001b[0;34m\u001b[0m\u001b[0;34m\u001b[0m\u001b[0m\n\u001b[1;32m      9\u001b[0m     \u001b[0mdf\u001b[0m\u001b[0;34m.\u001b[0m\u001b[0mcolumns\u001b[0m \u001b[0;34m=\u001b[0m \u001b[0;34m[\u001b[0m\u001b[0mcol\u001b[0m\u001b[0;34m.\u001b[0m\u001b[0mlower\u001b[0m\u001b[0;34m(\u001b[0m\u001b[0;34m)\u001b[0m \u001b[0;32mfor\u001b[0m \u001b[0mcol\u001b[0m \u001b[0;32min\u001b[0m \u001b[0mdf\u001b[0m\u001b[0;34m]\u001b[0m\u001b[0;34m\u001b[0m\u001b[0;34m\u001b[0m\u001b[0m\n",
      "\u001b[0;31mNameError\u001b[0m: name 'svi' is not defined"
     ]
    }
   ],
   "source": [
    "# TABLE CLEANING\n",
    "curr_date = '06/27/2020'\n",
    "ctcovid.rename(columns={\n",
    "            'Total cases ': 'total_cases'\n",
    "    }, inplace=True)\n",
    "\n",
    "all_data = [ctcovid, nhts_pp]\n",
    "for df in all_data:\n",
    "    df.columns = [col.lower() for col in df]\n",
    "    df.columns = [col.replace(\" \", \"_\") for col in df]\n",
    "\n",
    "svi = svi.drop(columns=['st', 'state', 'st_abbr'])"
   ]
  },
  {
   "cell_type": "code",
   "execution_count": null,
   "metadata": {},
   "outputs": [],
   "source": [
    "sat = ctcovid[ctcovid['date_updated'] == curr_date].reset_index(drop=True)\n",
    "sat_counties = sat['county']\n",
    "fig = go.Figure()\n",
    "fig.add_trace(go.Bar(x=sat_counties, y=sat['total_cases'],\n",
    "             name='Total Cases'))\n",
    "fig.add_trace(go.Bar(x=sat_counties, y=sat['confirmed_cases'],\n",
    "             name='Confirmed Cases'))\n",
    "fig.add_trace(go.Bar(x=sat_counties, y=sat['probable_cases'],\n",
    "             name='Probable Cases'))\n",
    "fig.add_trace(go.Bar(x=sat_counties, y=sat['hospitalized_cases'],\n",
    "             name='Hospitalized Cases'))\n",
    "fig.update_layout(title='Cases Type by County on 06/27/2020' , showlegend=True)\n",
    "fig.show()"
   ]
  },
  {
   "cell_type": "code",
   "execution_count": null,
   "metadata": {},
   "outputs": [],
   "source": [
    "nh = ctcovid[ctcovid['county'] == 'New Haven']\n",
    "nhtime = px.line(nh, x='date_updated', y='total_cases', title='New Haven County Total Cases 5/21/2020 to Present')\n",
    "nhtime.update_xaxes(rangeslider_visible=True)\n",
    "nhtime.show()\n",
    "\n",
    "# Data is not sorted correctly, needs to be reordered!\n",
    "\n"
   ]
  },
  {
   "cell_type": "code",
   "execution_count": null,
   "metadata": {},
   "outputs": [],
   "source": [
    "juneplus = ctcovid[ctcovid['date_updated'] >= '06/01/2020']\n",
    "\n",
    "fig = go.Figure()\n",
    "fig = px.line(juneplus, x='date_updated', y='total_cases', \n",
    "        color='county',\n",
    "        line_group='county',\n",
    "        hover_name='county')\n",
    "fig.update_layout(title='Total Cases by County in June' , showlegend=True)\n",
    "fig.update_xaxes(rangeslider_visible=True)\n",
    "fig.show()"
   ]
  },
  {
   "cell_type": "code",
   "execution_count": null,
   "metadata": {},
   "outputs": [],
   "source": [
    "satcovid_svi2 = pd.merge(sat, svi, on='county')\n",
    "satcovid_svi2[['total_cases', 'total_deaths']]"
   ]
  },
  {
   "cell_type": "code",
   "execution_count": null,
   "metadata": {},
   "outputs": [],
   "source": [
    "fig = px.density_heatmap(satcovid_svi2, \n",
    "                         x='total_cases', \n",
    "                         y='total_deaths', \n",
    "                         nbinsx=10, \n",
    "                         nbinsy=10,\n",
    "                         marginal_x=\"histogram\", \n",
    "                         marginal_y=\"histogram\")\n",
    "fig.show()\n"
   ]
  },
  {
   "cell_type": "code",
   "execution_count": null,
   "metadata": {},
   "outputs": [],
   "source": []
  }
 ],
 "metadata": {
  "kernelspec": {
   "display_name": "Python 3",
   "language": "python",
   "name": "python3"
  },
  "language_info": {
   "codemirror_mode": {
    "name": "ipython",
    "version": 3
   },
   "file_extension": ".py",
   "mimetype": "text/x-python",
   "name": "python",
   "nbconvert_exporter": "python",
   "pygments_lexer": "ipython3",
   "version": "3.7.2"
  },
  "widgets": {
   "application/vnd.jupyter.widget-state+json": {
    "state": {},
    "version_major": 2,
    "version_minor": 0
   }
  }
 },
 "nbformat": 4,
 "nbformat_minor": 2
}
